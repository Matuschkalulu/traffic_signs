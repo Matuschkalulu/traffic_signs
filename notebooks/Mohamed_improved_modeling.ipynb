{
  "nbformat": 4,
  "nbformat_minor": 0,
  "metadata": {
    "colab": {
      "provenance": [],
      "gpuType": "T4",
      "toc_visible": true
    },
    "kernelspec": {
      "name": "python3",
      "display_name": "Python 3"
    },
    "language_info": {
      "name": "python"
    },
    "accelerator": "GPU"
  },
  "cells": [
    {
      "cell_type": "code",
      "execution_count": 1,
      "metadata": {
        "id": "xGNLEWZ-hypw"
      },
      "outputs": [],
      "source": [
        "from tensorflow.keras.utils import to_categorical\n",
        "from tqdm import tqdm\n",
        "import numpy as np\n",
        "import os\n",
        "from PIL import Image\n",
        "import matplotlib.pyplot as plt\n",
        "import tensorflow as tf\n",
        "from tensorflow.keras.models import Sequential, Model\n",
        "from tensorflow.keras.layers import Conv2D, Dense, Flatten, MaxPool2D, Dropout\n",
        "from tensorflow.keras.layers.experimental.preprocessing import Rescaling\n",
        "from tensorflow.keras.optimizers import Adam, SGD, RMSprop\n",
        "from tensorflow.keras.callbacks import EarlyStopping\n",
        "from tensorflow.keras.applications.vgg16 import VGG16\n",
        "from tensorflow.keras.applications.vgg16 import preprocess_input\n",
        "from sklearn.utils import shuffle\n",
        "from sklearn.model_selection import train_test_split\n",
        "from tensorflow.keras.preprocessing.image import ImageDataGenerator\n",
        "import os, cv2, glob"
      ]
    },
    {
      "cell_type": "code",
      "source": [],
      "metadata": {
        "id": "j2pJbkcUjq9c"
      },
      "execution_count": 1,
      "outputs": []
    },
    {
      "cell_type": "markdown",
      "source": [
        "## **Base Model**"
      ],
      "metadata": {
        "id": "VYISW1JAjrqp"
      }
    },
    {
      "cell_type": "code",
      "source": [
        "from google.colab import drive\n",
        "drive.mount('/content/drive')\n",
        "img_folder = '/content/drive/My Drive/Colab Notebooks/Matuschkalulu/traffic_signs/raw_data/Train'"
      ],
      "metadata": {
        "id": "7dgTfrIfh-6W",
        "colab": {
          "base_uri": "https://localhost:8080/"
        },
        "outputId": "4a7e63e4-60fe-4b4b-eef5-320861cf9987"
      },
      "execution_count": 2,
      "outputs": [
        {
          "output_type": "stream",
          "name": "stdout",
          "text": [
            "Mounted at /content/drive\n"
          ]
        }
      ]
    },
    {
      "cell_type": "code",
      "source": [
        "def create_dataset(img_folder):\n",
        "    classes={(img_folder + 'recognizable'):0, (img_folder + 'unrecognizable'):1}\n",
        "\n",
        "    img_data_array=[]\n",
        "    class_name=[]\n",
        "    IMG_WIDTH=224\n",
        "    IMG_HEIGHT=224\n",
        "    for dir1 in os.listdir(img_folder):\n",
        "        for file in os.listdir(os.path.join(img_folder, dir1)):\n",
        "\n",
        "            image_path= os.path.join(img_folder, dir1,  file)\n",
        "            image= cv2.imread( image_path, cv2.COLOR_BGR2RGB)\n",
        "            image=cv2.resize(image, (IMG_HEIGHT, IMG_WIDTH),interpolation = cv2.INTER_AREA)\n",
        "            image=np.array(image)\n",
        "            image = image.astype('float32')\n",
        "            img_data_array.append(image)\n",
        "            class_name.append(dir1)\n",
        "    return img_data_array, class_name"
      ],
      "metadata": {
        "id": "Uy7KOspmiQDr"
      },
      "execution_count": 3,
      "outputs": []
    },
    {
      "cell_type": "code",
      "source": [
        "img_data, class_name= create_dataset(img_folder)"
      ],
      "metadata": {
        "id": "P1qC29MJiRCA"
      },
      "execution_count": 4,
      "outputs": []
    },
    {
      "cell_type": "code",
      "source": [
        "X = img_data\n",
        "y = class_name\n",
        "X, y = shuffle(X, y)\n",
        "X= np.array(X)\n",
        "y= np.array(y)"
      ],
      "metadata": {
        "id": "sE3Vf0rHiWA4"
      },
      "execution_count": 5,
      "outputs": []
    },
    {
      "cell_type": "code",
      "source": [
        "train_size= int(len(X) *0.60)\n",
        "val_size= train_size + int(len(X) * 0.20)\n",
        "\n",
        "X_train= X[:train_size]\n",
        "y_train= y[:train_size]\n",
        "\n",
        "X_val= X[train_size:val_size]\n",
        "y_val= y[train_size:val_size]\n",
        "\n",
        "X_test= X[val_size:]\n",
        "y_test= y[val_size:]"
      ],
      "metadata": {
        "id": "nmsLLCILiZU3"
      },
      "execution_count": 6,
      "outputs": []
    },
    {
      "cell_type": "code",
      "source": [
        "X_train.shape, y_train.shape, X_val.shape, y_val.shape, X_test.shape, y_test.shape"
      ],
      "metadata": {
        "id": "nFPtarFVib7N",
        "colab": {
          "base_uri": "https://localhost:8080/"
        },
        "outputId": "9d15cda8-66a5-4a93-ddab-7e003ae6e8a1"
      },
      "execution_count": 7,
      "outputs": [
        {
          "output_type": "execute_result",
          "data": {
            "text/plain": [
              "((327, 224, 224, 3),\n",
              " (327,),\n",
              " (109, 224, 224, 3),\n",
              " (109,),\n",
              " (110, 224, 224, 3),\n",
              " (110,))"
            ]
          },
          "metadata": {},
          "execution_count": 7
        }
      ]
    },
    {
      "cell_type": "code",
      "source": [
        "X_train_preproc= preprocess_input(X_train).astype('float')\n",
        "X_val_preproc= preprocess_input(X_val).astype('float')\n",
        "X_test_preproc= preprocess_input(X_test).astype('float')\n",
        "\n",
        "y_train= y_train.astype('float')\n",
        "y_val= y_val.astype('float')\n",
        "y_test= y_test.astype('float')"
      ],
      "metadata": {
        "id": "6otDbRDvifWL"
      },
      "execution_count": 8,
      "outputs": []
    },
    {
      "cell_type": "code",
      "source": [
        "def vgg_base_model():\n",
        "  base_model= VGG16(weights='imagenet', input_shape=X_train[0,:,:].shape, include_top=False)\n",
        "  base_model.trainable=False\n",
        "  last_layer= base_model.output\n",
        "\n",
        "  x= Flatten()(last_layer)\n",
        "  x= Dense(1024, activation= 'relu')(x)\n",
        "  x= Dense(512, activation= 'relu')(x)\n",
        "  x= Dense(10, activation= 'relu')(x)\n",
        "  output= Dense(1, activation= 'sigmoid')(x)\n",
        "\n",
        "  model= Model(base_model.input, output)\n",
        "\n",
        "  model.compile(loss='binary_crossentropy',\n",
        "                optimizer = Adam(learning_rate= 1e-4),\n",
        "                metrics=['accuracy'])\n",
        "  return model"
      ],
      "metadata": {
        "id": "AuIHcY4Qij7C"
      },
      "execution_count": 9,
      "outputs": []
    },
    {
      "cell_type": "code",
      "source": [
        "model= vgg_base_model()"
      ],
      "metadata": {
        "id": "NYmT5txIlzpS",
        "colab": {
          "base_uri": "https://localhost:8080/"
        },
        "outputId": "cf013d65-7f7e-49b7-f414-f8db036fe24f"
      },
      "execution_count": 10,
      "outputs": [
        {
          "output_type": "stream",
          "name": "stdout",
          "text": [
            "Downloading data from https://storage.googleapis.com/tensorflow/keras-applications/vgg16/vgg16_weights_tf_dim_ordering_tf_kernels_notop.h5\n",
            "58889256/58889256 [==============================] - 4s 0us/step\n"
          ]
        }
      ]
    },
    {
      "cell_type": "code",
      "source": [
        "def data_augment(X_train_preproc, y_train, batch_size):\n",
        "  train_datagen = ImageDataGenerator(featurewise_center = False,\n",
        "    featurewise_std_normalization = False,\n",
        "    rotation_range = 10,\n",
        "    width_shift_range = 0.1,\n",
        "    height_shift_range = 0.1,\n",
        "    horizontal_flip = True,\n",
        "    zoom_range = (0.8, 1.2))\n",
        "\n",
        "  train_datagen.fit(X_train_preproc)\n",
        "\n",
        "  train_flow = train_datagen.flow(X_train_preproc, y_train, batch_size = batch_size)\n",
        "  return train_flow"
      ],
      "metadata": {
        "id": "GgUidnURiq8I"
      },
      "execution_count": 11,
      "outputs": []
    },
    {
      "cell_type": "code",
      "source": [
        "train_flow= data_augment(X_train_preproc, y_train, 64)"
      ],
      "metadata": {
        "id": "AZwpNIbZl5pf"
      },
      "execution_count": 12,
      "outputs": []
    },
    {
      "cell_type": "code",
      "source": [
        "def train_augment(model, train_flow, batch_size, patience):\n",
        "\n",
        "  es = tf.keras.callbacks.ReduceLROnPlateau(monitor=\"val_accuracy\",factor=0.1,patience=patience,verbose=2\n",
        "                                                      ,mode=\"max\",min_delta=0.0001,cooldown=0,min_lr=0, momentum= 0.9)\n",
        "\n",
        "  history = model.fit(train_flow,\n",
        "                          batch_size=batch_size,\n",
        "                          epochs = 50,\n",
        "                          callbacks = [es],\n",
        "                          validation_data = (X_val_preproc, y_val))\n",
        "\n",
        "  return model, history"
      ],
      "metadata": {
        "id": "_tAGHZiKjFAA"
      },
      "execution_count": 13,
      "outputs": []
    },
    {
      "cell_type": "code",
      "source": [
        "def model_from_Federico():\n",
        "  augmentation = Sequential([\n",
        "        layers.RandomFlip(\"horizontal\"),\n",
        "        layers.RandomZoom(0.1),\n",
        "        layers.RandomTranslation(0.2, 0.2),\n",
        "        layers.RandomRotation(0.1)\n",
        "    ])\n",
        "  augment_model = Sequential([\n",
        "        layers.Input(shape = input_shape),\n",
        "        augmentation,\n",
        "        base_model,\n",
        "        layers.Flatten(),\n",
        "        layers.Dense(100, activation=\"relu\"),\n",
        "        layers.Dense(100, activation=\"relu\"),\n",
        "        layers.Dense(1, activation='sigmoid')\n",
        "    ])\n",
        "  return augment_model"
      ],
      "metadata": {
        "id": "VVF_iddfPtaV"
      },
      "execution_count": null,
      "outputs": []
    },
    {
      "cell_type": "code",
      "source": [
        "model, history= train_augment(model, train_flow, 64, 5)"
      ],
      "metadata": {
        "id": "1CLuhK3zkAye",
        "colab": {
          "base_uri": "https://localhost:8080/"
        },
        "outputId": "d48e5420-c211-4c6e-9f4d-1ab4467cc567"
      },
      "execution_count": 14,
      "outputs": [
        {
          "output_type": "stream",
          "name": "stdout",
          "text": [
            "Epoch 1/50\n",
            "6/6 [==============================] - 31s 3s/step - loss: 1.1760 - accuracy: 0.6606 - val_loss: 0.5445 - val_accuracy: 0.7339 - lr: 1.0000e-04\n",
            "Epoch 2/50\n",
            "6/6 [==============================] - 5s 796ms/step - loss: 0.4207 - accuracy: 0.8226 - val_loss: 0.6539 - val_accuracy: 0.7982 - lr: 1.0000e-04\n",
            "Epoch 3/50\n",
            "6/6 [==============================] - 5s 907ms/step - loss: 0.4223 - accuracy: 0.8410 - val_loss: 0.5582 - val_accuracy: 0.8349 - lr: 1.0000e-04\n",
            "Epoch 4/50\n",
            "6/6 [==============================] - 4s 711ms/step - loss: 0.2514 - accuracy: 0.8991 - val_loss: 0.3862 - val_accuracy: 0.8807 - lr: 1.0000e-04\n",
            "Epoch 5/50\n",
            "6/6 [==============================] - 5s 917ms/step - loss: 0.1982 - accuracy: 0.9083 - val_loss: 0.7266 - val_accuracy: 0.8440 - lr: 1.0000e-04\n",
            "Epoch 6/50\n",
            "6/6 [==============================] - 4s 673ms/step - loss: 0.1713 - accuracy: 0.9419 - val_loss: 0.3785 - val_accuracy: 0.8257 - lr: 1.0000e-04\n",
            "Epoch 7/50\n",
            "6/6 [==============================] - 5s 736ms/step - loss: 0.1701 - accuracy: 0.9450 - val_loss: 0.4083 - val_accuracy: 0.8807 - lr: 1.0000e-04\n",
            "Epoch 8/50\n",
            "6/6 [==============================] - 4s 699ms/step - loss: 0.1268 - accuracy: 0.9511 - val_loss: 0.3955 - val_accuracy: 0.8532 - lr: 1.0000e-04\n",
            "Epoch 9/50\n",
            "6/6 [==============================] - ETA: 0s - loss: 0.1011 - accuracy: 0.9633\n",
            "Epoch 9: ReduceLROnPlateau reducing learning rate to 9.999999747378752e-06.\n",
            "6/6 [==============================] - 5s 856ms/step - loss: 0.1011 - accuracy: 0.9633 - val_loss: 0.4756 - val_accuracy: 0.8440 - lr: 1.0000e-04\n",
            "Epoch 10/50\n",
            "6/6 [==============================] - 4s 673ms/step - loss: 0.0577 - accuracy: 0.9817 - val_loss: 0.4643 - val_accuracy: 0.8532 - lr: 1.0000e-05\n",
            "Epoch 11/50\n",
            "6/6 [==============================] - 5s 870ms/step - loss: 0.0530 - accuracy: 0.9817 - val_loss: 0.4492 - val_accuracy: 0.8532 - lr: 1.0000e-05\n",
            "Epoch 12/50\n",
            "6/6 [==============================] - 4s 715ms/step - loss: 0.0751 - accuracy: 0.9725 - val_loss: 0.4395 - val_accuracy: 0.8532 - lr: 1.0000e-05\n",
            "Epoch 13/50\n",
            "6/6 [==============================] - 4s 672ms/step - loss: 0.0810 - accuracy: 0.9633 - val_loss: 0.4294 - val_accuracy: 0.8532 - lr: 1.0000e-05\n",
            "Epoch 14/50\n",
            "6/6 [==============================] - ETA: 0s - loss: 0.0427 - accuracy: 0.9847\n",
            "Epoch 14: ReduceLROnPlateau reducing learning rate to 9.999999747378752e-07.\n",
            "6/6 [==============================] - 5s 840ms/step - loss: 0.0427 - accuracy: 0.9847 - val_loss: 0.4231 - val_accuracy: 0.8532 - lr: 1.0000e-05\n",
            "Epoch 15/50\n",
            "6/6 [==============================] - 5s 883ms/step - loss: 0.0454 - accuracy: 0.9817 - val_loss: 0.4226 - val_accuracy: 0.8532 - lr: 1.0000e-06\n",
            "Epoch 16/50\n",
            "6/6 [==============================] - 5s 932ms/step - loss: 0.0569 - accuracy: 0.9725 - val_loss: 0.4222 - val_accuracy: 0.8532 - lr: 1.0000e-06\n",
            "Epoch 17/50\n",
            "6/6 [==============================] - 4s 673ms/step - loss: 0.0379 - accuracy: 0.9847 - val_loss: 0.4213 - val_accuracy: 0.8532 - lr: 1.0000e-06\n",
            "Epoch 18/50\n",
            "6/6 [==============================] - 5s 817ms/step - loss: 0.0376 - accuracy: 0.9878 - val_loss: 0.4196 - val_accuracy: 0.8532 - lr: 1.0000e-06\n",
            "Epoch 19/50\n",
            "6/6 [==============================] - ETA: 0s - loss: 0.0466 - accuracy: 0.9817\n",
            "Epoch 19: ReduceLROnPlateau reducing learning rate to 9.999999974752428e-08.\n",
            "6/6 [==============================] - 5s 711ms/step - loss: 0.0466 - accuracy: 0.9817 - val_loss: 0.4181 - val_accuracy: 0.8532 - lr: 1.0000e-06\n",
            "Epoch 20/50\n",
            "6/6 [==============================] - 4s 719ms/step - loss: 0.0485 - accuracy: 0.9817 - val_loss: 0.4179 - val_accuracy: 0.8532 - lr: 1.0000e-07\n",
            "Epoch 21/50\n",
            "6/6 [==============================] - 6s 951ms/step - loss: 0.0388 - accuracy: 0.9878 - val_loss: 0.4177 - val_accuracy: 0.8532 - lr: 1.0000e-07\n",
            "Epoch 22/50\n",
            "6/6 [==============================] - 4s 677ms/step - loss: 0.0499 - accuracy: 0.9817 - val_loss: 0.4175 - val_accuracy: 0.8532 - lr: 1.0000e-07\n",
            "Epoch 23/50\n",
            "6/6 [==============================] - 4s 678ms/step - loss: 0.0556 - accuracy: 0.9817 - val_loss: 0.4172 - val_accuracy: 0.8532 - lr: 1.0000e-07\n",
            "Epoch 24/50\n",
            "6/6 [==============================] - ETA: 0s - loss: 0.0650 - accuracy: 0.9725\n",
            "Epoch 24: ReduceLROnPlateau reducing learning rate to 1.0000000116860975e-08.\n",
            "6/6 [==============================] - 6s 1s/step - loss: 0.0650 - accuracy: 0.9725 - val_loss: 0.4172 - val_accuracy: 0.8532 - lr: 1.0000e-07\n",
            "Epoch 25/50\n",
            "6/6 [==============================] - 4s 679ms/step - loss: 0.0663 - accuracy: 0.9694 - val_loss: 0.4172 - val_accuracy: 0.8532 - lr: 1.0000e-08\n",
            "Epoch 26/50\n",
            "6/6 [==============================] - 4s 729ms/step - loss: 0.0699 - accuracy: 0.9602 - val_loss: 0.4171 - val_accuracy: 0.8532 - lr: 1.0000e-08\n",
            "Epoch 27/50\n",
            "6/6 [==============================] - 5s 808ms/step - loss: 0.0556 - accuracy: 0.9786 - val_loss: 0.4171 - val_accuracy: 0.8532 - lr: 1.0000e-08\n",
            "Epoch 28/50\n",
            "6/6 [==============================] - 5s 866ms/step - loss: 0.0650 - accuracy: 0.9817 - val_loss: 0.4171 - val_accuracy: 0.8532 - lr: 1.0000e-08\n",
            "Epoch 29/50\n",
            "6/6 [==============================] - ETA: 0s - loss: 0.0647 - accuracy: 0.9755\n",
            "Epoch 29: ReduceLROnPlateau reducing learning rate to 9.999999939225292e-10.\n",
            "6/6 [==============================] - 5s 879ms/step - loss: 0.0647 - accuracy: 0.9755 - val_loss: 0.4171 - val_accuracy: 0.8532 - lr: 1.0000e-08\n",
            "Epoch 30/50\n",
            "6/6 [==============================] - 4s 661ms/step - loss: 0.0548 - accuracy: 0.9908 - val_loss: 0.4171 - val_accuracy: 0.8532 - lr: 1.0000e-09\n",
            "Epoch 31/50\n",
            "6/6 [==============================] - 5s 1s/step - loss: 0.0403 - accuracy: 0.9847 - val_loss: 0.4171 - val_accuracy: 0.8532 - lr: 1.0000e-09\n",
            "Epoch 32/50\n",
            "6/6 [==============================] - 4s 814ms/step - loss: 0.0471 - accuracy: 0.9786 - val_loss: 0.4171 - val_accuracy: 0.8532 - lr: 1.0000e-09\n",
            "Epoch 33/50\n",
            "6/6 [==============================] - 4s 845ms/step - loss: 0.0657 - accuracy: 0.9602 - val_loss: 0.4171 - val_accuracy: 0.8532 - lr: 1.0000e-09\n",
            "Epoch 34/50\n",
            "6/6 [==============================] - ETA: 0s - loss: 0.0522 - accuracy: 0.9755\n",
            "Epoch 34: ReduceLROnPlateau reducing learning rate to 9.999999717180686e-11.\n",
            "6/6 [==============================] - 6s 976ms/step - loss: 0.0522 - accuracy: 0.9755 - val_loss: 0.4171 - val_accuracy: 0.8532 - lr: 1.0000e-09\n",
            "Epoch 35/50\n",
            "6/6 [==============================] - 4s 682ms/step - loss: 0.1111 - accuracy: 0.9541 - val_loss: 0.4171 - val_accuracy: 0.8532 - lr: 1.0000e-10\n",
            "Epoch 36/50\n",
            "6/6 [==============================] - 4s 860ms/step - loss: 0.0661 - accuracy: 0.9786 - val_loss: 0.4171 - val_accuracy: 0.8532 - lr: 1.0000e-10\n",
            "Epoch 37/50\n",
            "6/6 [==============================] - 5s 811ms/step - loss: 0.0507 - accuracy: 0.9755 - val_loss: 0.4171 - val_accuracy: 0.8532 - lr: 1.0000e-10\n",
            "Epoch 38/50\n",
            "6/6 [==============================] - 4s 718ms/step - loss: 0.0529 - accuracy: 0.9817 - val_loss: 0.4171 - val_accuracy: 0.8532 - lr: 1.0000e-10\n",
            "Epoch 39/50\n",
            "6/6 [==============================] - ETA: 0s - loss: 0.0580 - accuracy: 0.9847\n",
            "Epoch 39: ReduceLROnPlateau reducing learning rate to 9.99999943962493e-12.\n",
            "6/6 [==============================] - 5s 906ms/step - loss: 0.0580 - accuracy: 0.9847 - val_loss: 0.4171 - val_accuracy: 0.8532 - lr: 1.0000e-10\n",
            "Epoch 40/50\n",
            "6/6 [==============================] - 5s 931ms/step - loss: 0.0400 - accuracy: 0.9847 - val_loss: 0.4171 - val_accuracy: 0.8532 - lr: 1.0000e-11\n",
            "Epoch 41/50\n",
            "6/6 [==============================] - 4s 852ms/step - loss: 0.0560 - accuracy: 0.9786 - val_loss: 0.4171 - val_accuracy: 0.8532 - lr: 1.0000e-11\n",
            "Epoch 42/50\n",
            "6/6 [==============================] - 6s 944ms/step - loss: 0.0432 - accuracy: 0.9847 - val_loss: 0.4171 - val_accuracy: 0.8532 - lr: 1.0000e-11\n",
            "Epoch 43/50\n",
            "6/6 [==============================] - 4s 684ms/step - loss: 0.0381 - accuracy: 0.9908 - val_loss: 0.4171 - val_accuracy: 0.8532 - lr: 1.0000e-11\n",
            "Epoch 44/50\n",
            "6/6 [==============================] - ETA: 0s - loss: 0.0399 - accuracy: 0.9847\n",
            "Epoch 44: ReduceLROnPlateau reducing learning rate to 9.999999092680235e-13.\n",
            "6/6 [==============================] - 6s 941ms/step - loss: 0.0399 - accuracy: 0.9847 - val_loss: 0.4171 - val_accuracy: 0.8532 - lr: 1.0000e-11\n",
            "Epoch 45/50\n",
            "6/6 [==============================] - 4s 724ms/step - loss: 0.0628 - accuracy: 0.9694 - val_loss: 0.4171 - val_accuracy: 0.8532 - lr: 1.0000e-12\n",
            "Epoch 46/50\n",
            "6/6 [==============================] - 5s 727ms/step - loss: 0.0698 - accuracy: 0.9694 - val_loss: 0.4171 - val_accuracy: 0.8532 - lr: 1.0000e-12\n",
            "Epoch 47/50\n",
            "6/6 [==============================] - 5s 837ms/step - loss: 0.0530 - accuracy: 0.9786 - val_loss: 0.4171 - val_accuracy: 0.8532 - lr: 1.0000e-12\n",
            "Epoch 48/50\n",
            "6/6 [==============================] - 5s 822ms/step - loss: 0.0473 - accuracy: 0.9817 - val_loss: 0.4171 - val_accuracy: 0.8532 - lr: 1.0000e-12\n",
            "Epoch 49/50\n",
            "6/6 [==============================] - ETA: 0s - loss: 0.0602 - accuracy: 0.9725\n",
            "Epoch 49: ReduceLROnPlateau reducing learning rate to 9.9999988758398e-14.\n",
            "6/6 [==============================] - 5s 953ms/step - loss: 0.0602 - accuracy: 0.9725 - val_loss: 0.4171 - val_accuracy: 0.8532 - lr: 1.0000e-12\n",
            "Epoch 50/50\n",
            "6/6 [==============================] - 4s 727ms/step - loss: 0.0508 - accuracy: 0.9817 - val_loss: 0.4171 - val_accuracy: 0.8532 - lr: 1.0000e-13\n"
          ]
        }
      ]
    },
    {
      "cell_type": "markdown",
      "source": [
        "## Visualize the History & Evaluate"
      ],
      "metadata": {
        "id": "c6goYnYTkBdR"
      }
    },
    {
      "cell_type": "code",
      "source": [
        "def plot_history(history, title=''):\n",
        "    fig, (ax1, ax2) = plt.subplots(1, 2, figsize=(12, 4))\n",
        "    ax1.plot(history.history['loss'], label = 'train_loss')\n",
        "    ax1.plot(history.history['val_loss'], label = 'val_loss')\n",
        "    ax1.set_ylim(0., 2.2)\n",
        "    ax1.set_title('loss')\n",
        "    ax1.legend()\n",
        "\n",
        "    ax2.plot(history.history['accuracy'], label='train accuracy')\n",
        "    ax2.plot(history.history['val_accuracy'], label='val accuracy')\n",
        "    ax2.set_ylim(0.25, 1.)\n",
        "    ax2.set_title('Accuracy')\n",
        "    ax2.legend()\n",
        "    return (ax1, ax2)"
      ],
      "metadata": {
        "id": "5f0_k5gwkEYW"
      },
      "execution_count": 15,
      "outputs": []
    },
    {
      "cell_type": "code",
      "source": [
        "plot_history(history)"
      ],
      "metadata": {
        "id": "4mmhT6jnmaro",
        "colab": {
          "base_uri": "https://localhost:8080/",
          "height": 408
        },
        "outputId": "f41b7257-79e2-4509-a020-428f3f6d403a"
      },
      "execution_count": 16,
      "outputs": [
        {
          "output_type": "execute_result",
          "data": {
            "text/plain": [
              "(<Axes: title={'center': 'loss'}>, <Axes: title={'center': 'Accuracy'}>)"
            ]
          },
          "metadata": {},
          "execution_count": 16
        },
        {
          "output_type": "display_data",
          "data": {
            "text/plain": [
              "<Figure size 1200x400 with 2 Axes>"
            ],
            "image/png": "[encoded data removed]"
          },
          "metadata": {}
        }
      ]
    },
    {
      "cell_type": "code",
      "source": [
        "def model_evaluate(model, X, y):\n",
        "  score= model.evaluate(X, y)[1]\n",
        "  return f'Test score= {score:.2f}'"
      ],
      "metadata": {
        "id": "p8JeSkLgkRai"
      },
      "execution_count": 17,
      "outputs": []
    },
    {
      "cell_type": "code",
      "source": [
        "model_evaluate(model, X_test_preproc, y_test)"
      ],
      "metadata": {
        "id": "UxDqiishmf31",
        "colab": {
          "base_uri": "https://localhost:8080/",
          "height": 53
        },
        "outputId": "37116473-8b91-4193-cb64-975264c63127"
      },
      "execution_count": 18,
      "outputs": [
        {
          "output_type": "stream",
          "name": "stdout",
          "text": [
            "4/4 [==============================] - 7s 809ms/step - loss: 0.3961 - accuracy: 0.8818\n"
          ]
        },
        {
          "output_type": "execute_result",
          "data": {
            "text/plain": [
              "'Test score= 0.88'"
            ],
            "application/vnd.google.colaboratory.intrinsic+json": {
              "type": "string"
            }
          },
          "metadata": {},
          "execution_count": 18
        }
      ]
    },
    {
      "cell_type": "code",
      "source": [
        "model_path= '/content/drive/My Drive/Colab Notebooks/Matuschkalulu/traffic_signs/models/improved_model.h5'\n",
        "model.save(model_path)"
      ],
      "metadata": {
        "id": "emlrdEUMki8j"
      },
      "execution_count": 19,
      "outputs": []
    },
    {
      "cell_type": "markdown",
      "source": [
        "## **Model_Testing**"
      ],
      "metadata": {
        "id": "_eES6Tutmvt9"
      }
    },
    {
      "cell_type": "code",
      "source": [
        "from tensorflow import keras\n",
        "from sklearn.metrics import classification_report"
      ],
      "metadata": {
        "id": "Pz1ID53mmy8T"
      },
      "execution_count": 20,
      "outputs": []
    },
    {
      "cell_type": "code",
      "source": [
        "y_test= y_test.astype(int)\n"
      ],
      "metadata": {
        "id": "EFmYUv2Ou9ya"
      },
      "execution_count": 21,
      "outputs": []
    },
    {
      "cell_type": "code",
      "source": [
        "#model_path= '/content/drive/My Drive/Colab Notebooks/Matuschkalulu/traffic_signs/models/improved_model.h5'\n",
        "y_pred= model.predict(X_test_preproc)\n",
        "y_pred= y_pred.astype(int)\n",
        "target_names=['class_0', 'class_1']\n",
        "print(classification_report(y_test, y_pred, target_names=target_names))"
      ],
      "metadata": {
        "id": "OFqZ2yWem64e",
        "colab": {
          "base_uri": "https://localhost:8080/"
        },
        "outputId": "41ae05cd-6271-4784-d4d5-65a5cffbd8ba"
      },
      "execution_count": 22,
      "outputs": [
        {
          "output_type": "stream",
          "name": "stdout",
          "text": [
            "4/4 [==============================] - 1s 145ms/step\n",
            "              precision    recall  f1-score   support\n",
            "\n",
            "     class_0       0.61      1.00      0.75        63\n",
            "     class_1       1.00      0.13      0.23        47\n",
            "\n",
            "    accuracy                           0.63       110\n",
            "   macro avg       0.80      0.56      0.49       110\n",
            "weighted avg       0.77      0.63      0.53       110\n",
            "\n"
          ]
        }
      ]
    },
    {
      "cell_type": "code",
      "source": [
        "y_pred= model.predict(X_test_preproc)"
      ],
      "metadata": {
        "id": "gOItYXkMnJMN"
      },
      "execution_count": null,
      "outputs": []
    },
    {
      "cell_type": "code",
      "source": [
        "target_names=['class_0', 'class_1']\n",
        "print(classification_report(y_test, y_pred, target_names=target_names))"
      ],
      "metadata": {
        "id": "byV3C0v6nOJu"
      },
      "execution_count": null,
      "outputs": []
    }
  ]
}